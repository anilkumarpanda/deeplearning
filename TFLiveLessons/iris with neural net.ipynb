{
 "cells": [
  {
   "cell_type": "markdown",
   "metadata": {},
   "source": [
    "## Use Neural Network to Predict Iris Dataset"
   ]
  },
  {
   "cell_type": "markdown",
   "metadata": {},
   "source": [
    "## 1) Predict using Logistic Regression "
   ]
  },
  {
   "cell_type": "code",
   "execution_count": 1,
   "metadata": {},
   "outputs": [
    {
     "name": "stderr",
     "output_type": "stream",
     "text": [
      "/opt/conda/lib/python3.6/site-packages/sklearn/cross_validation.py:44: DeprecationWarning: This module was deprecated in version 0.18 in favor of the model_selection module into which all the refactored classes and functions are moved. Also note that the interface of the new CV iterators are different from that of this module. This module will be removed in 0.20.\n",
      "  \"This module will be removed in 0.20.\", DeprecationWarning)\n",
      "Using TensorFlow backend.\n"
     ]
    }
   ],
   "source": [
    "%matplotlib inline\n",
    "import matplotlib.pyplot as plt\n",
    "import seaborn as sns\n",
    "import numpy as np\n",
    "import pandas as pd\n",
    "\n",
    "from sklearn.cross_validation import train_test_split\n",
    "from sklearn.linear_model import LogisticRegressionCV\n",
    "\n",
    "from keras.models import Sequential\n",
    "from keras.layers.core import Dense, Activation\n",
    "from keras.utils import np_utils\n",
    "from keras.layers import Dropout\n",
    "from keras.layers.normalization import BatchNormalization\n",
    "from keras.optimizers import SGD"
   ]
  },
  {
   "cell_type": "code",
   "execution_count": 2,
   "metadata": {
    "collapsed": true
   },
   "outputs": [],
   "source": [
    "from sklearn import datasets\n",
    "iris = datasets.load_iris()\n",
    "X = iris.data[:, :4]  \n",
    "y = iris.target"
   ]
  },
  {
   "cell_type": "code",
   "execution_count": 3,
   "metadata": {
    "collapsed": true
   },
   "outputs": [],
   "source": [
    "train_X, test_X, train_y, test_y = train_test_split(X, y, train_size=0.5, random_state=0)"
   ]
  },
  {
   "cell_type": "markdown",
   "metadata": {},
   "source": [
    "#### Create a Logistic Regesssion Classifier"
   ]
  },
  {
   "cell_type": "code",
   "execution_count": 4,
   "metadata": {},
   "outputs": [
    {
     "data": {
      "text/plain": [
       "LogisticRegressionCV(Cs=10, class_weight=None, cv=None, dual=False,\n",
       "           fit_intercept=True, intercept_scaling=1.0, max_iter=100,\n",
       "           multi_class='ovr', n_jobs=1, penalty='l2', random_state=None,\n",
       "           refit=True, scoring=None, solver='lbfgs', tol=0.0001, verbose=0)"
      ]
     },
     "execution_count": 4,
     "metadata": {},
     "output_type": "execute_result"
    }
   ],
   "source": [
    "lr = LogisticRegressionCV()\n",
    "lr.fit(train_X, train_y)"
   ]
  },
  {
   "cell_type": "code",
   "execution_count": 5,
   "metadata": {},
   "outputs": [
    {
     "name": "stdout",
     "output_type": "stream",
     "text": [
      "Accuracy = 0.83\n"
     ]
    }
   ],
   "source": [
    "print(\"Accuracy = {:.2f}\".format(lr.score(test_X, test_y)))"
   ]
  },
  {
   "cell_type": "markdown",
   "metadata": {},
   "source": [
    "## 2) Create a Neural Net with Keras"
   ]
  },
  {
   "cell_type": "markdown",
   "metadata": {},
   "source": [
    "#### Encode variable using one hot encoder"
   ]
  },
  {
   "cell_type": "code",
   "execution_count": 6,
   "metadata": {
    "collapsed": true
   },
   "outputs": [],
   "source": [
    "def one_hot_encode_object_array(arr):\n",
    "    '''One hot encode a numpy array of objects (e.g. strings)'''\n",
    "    uniques, ids = np.unique(arr, return_inverse=True)\n",
    "    return np_utils.to_categorical(ids, len(uniques))\n",
    "\n",
    "train_y_ohe = one_hot_encode_object_array(train_y)\n",
    "test_y_ohe = one_hot_encode_object_array(test_y)"
   ]
  },
  {
   "cell_type": "code",
   "execution_count": 7,
   "metadata": {
    "collapsed": true
   },
   "outputs": [],
   "source": [
    "#Data Exploration\n",
    "#train_X[:]"
   ]
  },
  {
   "cell_type": "markdown",
   "metadata": {},
   "source": [
    "#### Crete a neural network"
   ]
  },
  {
   "cell_type": "code",
   "execution_count": 8,
   "metadata": {
    "collapsed": true
   },
   "outputs": [],
   "source": [
    "model = Sequential()\n",
    "\n",
    "model.add(Dense((32),activation='sigmoid',input_shape=(4,)))\n",
    "\n",
    "model.add(Dense((64),activation='sigmoid'))\n",
    "#model.add(BatchNormalization())\n",
    "model.add(Dropout(0.3))\n",
    "\n",
    "model.add(Dense((3),activation='softmax'))\n"
   ]
  },
  {
   "cell_type": "code",
   "execution_count": 9,
   "metadata": {},
   "outputs": [
    {
     "name": "stdout",
     "output_type": "stream",
     "text": [
      "_________________________________________________________________\n",
      "Layer (type)                 Output Shape              Param #   \n",
      "=================================================================\n",
      "dense_1 (Dense)              (None, 32)                160       \n",
      "_________________________________________________________________\n",
      "dense_2 (Dense)              (None, 64)                2112      \n",
      "_________________________________________________________________\n",
      "dropout_1 (Dropout)          (None, 64)                0         \n",
      "_________________________________________________________________\n",
      "dense_3 (Dense)              (None, 3)                 195       \n",
      "=================================================================\n",
      "Total params: 2,467\n",
      "Trainable params: 2,467\n",
      "Non-trainable params: 0\n",
      "_________________________________________________________________\n"
     ]
    }
   ],
   "source": [
    "model.summary()"
   ]
  },
  {
   "cell_type": "code",
   "execution_count": 10,
   "metadata": {
    "collapsed": true
   },
   "outputs": [],
   "source": [
    "model.compile(optimizer='adam', loss='mean_squared_error', metrics=[\"accuracy\"])"
   ]
  },
  {
   "cell_type": "code",
   "execution_count": 11,
   "metadata": {
    "scrolled": false
   },
   "outputs": [
    {
     "name": "stdout",
     "output_type": "stream",
     "text": [
      "Train on 75 samples, validate on 75 samples\n",
      "Epoch 1/50\n",
      "75/75 [==============================] - 0s - loss: 0.2393 - acc: 0.3600 - val_loss: 0.2213 - val_acc: 0.2933\n",
      "Epoch 2/50\n",
      "75/75 [==============================] - 0s - loss: 0.2138 - acc: 0.4133 - val_loss: 0.2234 - val_acc: 0.2800\n",
      "Epoch 3/50\n",
      "75/75 [==============================] - 0s - loss: 0.2124 - acc: 0.4800 - val_loss: 0.2138 - val_acc: 0.6000\n",
      "Epoch 4/50\n",
      "75/75 [==============================] - 0s - loss: 0.1825 - acc: 0.5867 - val_loss: 0.1992 - val_acc: 0.6000\n",
      "Epoch 5/50\n",
      "75/75 [==============================] - 0s - loss: 0.1789 - acc: 0.6267 - val_loss: 0.1858 - val_acc: 0.6000\n",
      "Epoch 6/50\n",
      "75/75 [==============================] - 0s - loss: 0.1506 - acc: 0.6800 - val_loss: 0.1695 - val_acc: 0.6000\n",
      "Epoch 7/50\n",
      "75/75 [==============================] - 0s - loss: 0.1406 - acc: 0.7333 - val_loss: 0.1564 - val_acc: 0.6000\n",
      "Epoch 8/50\n",
      "75/75 [==============================] - 0s - loss: 0.1286 - acc: 0.7200 - val_loss: 0.1466 - val_acc: 0.6000\n",
      "Epoch 9/50\n",
      "75/75 [==============================] - 0s - loss: 0.1208 - acc: 0.7333 - val_loss: 0.1336 - val_acc: 0.6000\n",
      "Epoch 10/50\n",
      "75/75 [==============================] - 0s - loss: 0.1131 - acc: 0.7467 - val_loss: 0.1230 - val_acc: 0.7867\n",
      "Epoch 11/50\n",
      "75/75 [==============================] - 0s - loss: 0.1045 - acc: 0.8133 - val_loss: 0.1222 - val_acc: 0.6133\n",
      "Epoch 12/50\n",
      "75/75 [==============================] - 0s - loss: 0.1049 - acc: 0.7200 - val_loss: 0.1191 - val_acc: 0.6133\n",
      "Epoch 13/50\n",
      "75/75 [==============================] - 0s - loss: 0.0981 - acc: 0.7867 - val_loss: 0.1188 - val_acc: 0.6133\n",
      "Epoch 14/50\n",
      "75/75 [==============================] - 0s - loss: 0.0962 - acc: 0.8000 - val_loss: 0.1040 - val_acc: 0.7467\n",
      "Epoch 15/50\n",
      "75/75 [==============================] - 0s - loss: 0.0852 - acc: 0.8400 - val_loss: 0.0990 - val_acc: 0.7867\n",
      "Epoch 16/50\n",
      "75/75 [==============================] - 0s - loss: 0.0847 - acc: 0.8533 - val_loss: 0.1005 - val_acc: 0.7200\n",
      "Epoch 17/50\n",
      "75/75 [==============================] - 0s - loss: 0.0833 - acc: 0.8400 - val_loss: 0.0884 - val_acc: 0.9467\n",
      "Epoch 18/50\n",
      "75/75 [==============================] - 0s - loss: 0.0919 - acc: 0.8000 - val_loss: 0.1141 - val_acc: 0.6267\n",
      "Epoch 19/50\n",
      "75/75 [==============================] - 0s - loss: 0.0816 - acc: 0.8400 - val_loss: 0.0791 - val_acc: 0.9867\n",
      "Epoch 20/50\n",
      "75/75 [==============================] - 0s - loss: 0.0674 - acc: 0.9067 - val_loss: 0.0742 - val_acc: 0.9867\n",
      "Epoch 21/50\n",
      "75/75 [==============================] - 0s - loss: 0.0650 - acc: 0.9200 - val_loss: 0.0771 - val_acc: 0.8667\n",
      "Epoch 22/50\n",
      "75/75 [==============================] - 0s - loss: 0.0733 - acc: 0.9333 - val_loss: 0.0759 - val_acc: 0.8533\n",
      "Epoch 23/50\n",
      "75/75 [==============================] - 0s - loss: 0.0563 - acc: 0.8933 - val_loss: 0.0742 - val_acc: 0.8400\n",
      "Epoch 24/50\n",
      "75/75 [==============================] - 0s - loss: 0.0591 - acc: 0.9067 - val_loss: 0.0662 - val_acc: 0.9200\n",
      "Epoch 25/50\n",
      "75/75 [==============================] - 0s - loss: 0.0512 - acc: 0.9200 - val_loss: 0.0580 - val_acc: 0.9467\n",
      "Epoch 26/50\n",
      "75/75 [==============================] - 0s - loss: 0.0547 - acc: 0.9067 - val_loss: 0.0520 - val_acc: 0.9733\n",
      "Epoch 27/50\n",
      "75/75 [==============================] - 0s - loss: 0.0527 - acc: 0.9200 - val_loss: 0.0512 - val_acc: 0.9867\n",
      "Epoch 28/50\n",
      "75/75 [==============================] - 0s - loss: 0.0363 - acc: 0.9600 - val_loss: 0.0470 - val_acc: 0.9733\n",
      "Epoch 29/50\n",
      "75/75 [==============================] - 0s - loss: 0.0460 - acc: 0.9467 - val_loss: 0.0483 - val_acc: 0.9333\n",
      "Epoch 30/50\n",
      "75/75 [==============================] - 0s - loss: 0.0470 - acc: 0.9333 - val_loss: 0.0429 - val_acc: 0.9867\n",
      "Epoch 31/50\n",
      "75/75 [==============================] - 0s - loss: 0.0429 - acc: 0.9467 - val_loss: 0.0422 - val_acc: 0.9867\n",
      "Epoch 32/50\n",
      "75/75 [==============================] - 0s - loss: 0.0462 - acc: 0.9067 - val_loss: 0.0460 - val_acc: 0.9867\n",
      "Epoch 33/50\n",
      "75/75 [==============================] - 0s - loss: 0.0430 - acc: 0.9467 - val_loss: 0.0377 - val_acc: 0.9867\n",
      "Epoch 34/50\n",
      "75/75 [==============================] - 0s - loss: 0.0384 - acc: 0.9333 - val_loss: 0.0383 - val_acc: 0.9467\n",
      "Epoch 35/50\n",
      "75/75 [==============================] - 0s - loss: 0.0381 - acc: 0.9467 - val_loss: 0.0443 - val_acc: 0.9867\n",
      "Epoch 36/50\n",
      "75/75 [==============================] - 0s - loss: 0.0444 - acc: 0.9333 - val_loss: 0.0343 - val_acc: 0.9733\n",
      "Epoch 37/50\n",
      "75/75 [==============================] - 0s - loss: 0.0310 - acc: 0.9467 - val_loss: 0.0324 - val_acc: 0.9733\n",
      "Epoch 38/50\n",
      "75/75 [==============================] - 0s - loss: 0.0310 - acc: 0.9467 - val_loss: 0.0303 - val_acc: 0.9867\n",
      "Epoch 39/50\n",
      "75/75 [==============================] - 0s - loss: 0.0301 - acc: 0.9733 - val_loss: 0.0289 - val_acc: 0.9867\n",
      "Epoch 40/50\n",
      "75/75 [==============================] - 0s - loss: 0.0305 - acc: 0.9333 - val_loss: 0.0363 - val_acc: 0.9467\n",
      "Epoch 41/50\n",
      "75/75 [==============================] - 0s - loss: 0.0281 - acc: 0.9467 - val_loss: 0.0282 - val_acc: 0.9867\n",
      "Epoch 42/50\n",
      "75/75 [==============================] - 0s - loss: 0.0295 - acc: 0.9333 - val_loss: 0.0263 - val_acc: 0.9867\n",
      "Epoch 43/50\n",
      "75/75 [==============================] - 0s - loss: 0.0277 - acc: 0.9733 - val_loss: 0.0253 - val_acc: 0.9867\n",
      "Epoch 44/50\n",
      "75/75 [==============================] - 0s - loss: 0.0310 - acc: 0.9467 - val_loss: 0.0317 - val_acc: 0.9867\n",
      "Epoch 45/50\n",
      "75/75 [==============================] - 0s - loss: 0.0364 - acc: 0.9333 - val_loss: 0.0242 - val_acc: 0.9867\n",
      "Epoch 46/50\n",
      "75/75 [==============================] - 0s - loss: 0.0242 - acc: 0.9467 - val_loss: 0.0238 - val_acc: 0.9867\n",
      "Epoch 47/50\n",
      "75/75 [==============================] - 0s - loss: 0.0283 - acc: 0.9600 - val_loss: 0.0229 - val_acc: 0.9867\n",
      "Epoch 48/50\n",
      "75/75 [==============================] - 0s - loss: 0.0199 - acc: 0.9733 - val_loss: 0.0238 - val_acc: 0.9733\n",
      "Epoch 49/50\n",
      "75/75 [==============================] - 0s - loss: 0.0362 - acc: 0.9200 - val_loss: 0.0265 - val_acc: 0.9467\n",
      "Epoch 50/50\n",
      "75/75 [==============================] - 0s - loss: 0.0288 - acc: 0.9333 - val_loss: 0.0362 - val_acc: 0.9200\n"
     ]
    },
    {
     "data": {
      "text/plain": [
       "<keras.callbacks.History at 0x7f19e2836470>"
      ]
     },
     "execution_count": 11,
     "metadata": {},
     "output_type": "execute_result"
    }
   ],
   "source": [
    "model.fit(train_X,train_y_ohe,epochs=50,batch_size=1,verbose=1,validation_data=(test_X,test_y_ohe))"
   ]
  },
  {
   "cell_type": "code",
   "execution_count": 13,
   "metadata": {},
   "outputs": [
    {
     "name": "stdout",
     "output_type": "stream",
     "text": [
      "Accuracy = 0.92\n"
     ]
    }
   ],
   "source": [
    "loss, accuracy = model.evaluate(test_X, test_y_ohe, verbose=0)\n",
    "print(\"Accuracy = {:.2f}\".format(accuracy))"
   ]
  },
  {
   "cell_type": "code",
   "execution_count": null,
   "metadata": {
    "collapsed": true
   },
   "outputs": [],
   "source": []
  }
 ],
 "metadata": {
  "kernelspec": {
   "display_name": "Python 3",
   "language": "python",
   "name": "python3"
  },
  "language_info": {
   "codemirror_mode": {
    "name": "ipython",
    "version": 3
   },
   "file_extension": ".py",
   "mimetype": "text/x-python",
   "name": "python",
   "nbconvert_exporter": "python",
   "pygments_lexer": "ipython3",
   "version": "3.6.2"
  }
 },
 "nbformat": 4,
 "nbformat_minor": 2
}
