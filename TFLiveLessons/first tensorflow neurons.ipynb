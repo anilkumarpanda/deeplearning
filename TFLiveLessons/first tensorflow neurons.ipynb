{
 "cells": [
  {
   "cell_type": "markdown",
   "metadata": {},
   "source": [
    "## First Tensorflow Neurons"
   ]
  },
  {
   "cell_type": "code",
   "execution_count": 1,
   "metadata": {
    "collapsed": true
   },
   "outputs": [],
   "source": [
    "\n",
    "import numpy as np\n",
    "import tensorflow as tf\n",
    "tf.set_random_seed(42)\n",
    "import matplotlib.pyplot as plt\n",
    "%matplotlib inline"
   ]
  },
  {
   "cell_type": "markdown",
   "metadata": {},
   "source": [
    "#### Set no.of of Input neurons"
   ]
  },
  {
   "cell_type": "code",
   "execution_count": 2,
   "metadata": {
    "collapsed": true
   },
   "outputs": [],
   "source": [
    "n_input = 784\n",
    "n_dense = 128\n"
   ]
  },
  {
   "cell_type": "code",
   "execution_count": 3,
   "metadata": {
    "collapsed": true
   },
   "outputs": [],
   "source": [
    "#Define placeholder tensor\n",
    "x = tf.placeholder(tf.float32,[None,784])"
   ]
  },
  {
   "cell_type": "markdown",
   "metadata": {},
   "source": [
    "#### Define variable tensor"
   ]
  },
  {
   "cell_type": "code",
   "execution_count": 4,
   "metadata": {},
   "outputs": [],
   "source": [
    "b = tf.Variable(tf.zeros([n_dense]))\n",
    "#w = tf.Variable(tf.random_normal([n_input,n_dense]))\n",
    "w= tf.get_variable('w',[n_input,n_dense],initializer=tf.contrib.layers.xavier_initializer())"
   ]
  },
  {
   "cell_type": "markdown",
   "metadata": {},
   "source": [
    "#### Design computatinal graph"
   ]
  },
  {
   "cell_type": "code",
   "execution_count": 5,
   "metadata": {
    "collapsed": true
   },
   "outputs": [],
   "source": [
    "z = tf.add(tf.matmul(x,w),b)\n",
    "a = tf.nn.relu(z)"
   ]
  },
  {
   "cell_type": "markdown",
   "metadata": {},
   "source": [
    "#### Initalize Variables"
   ]
  },
  {
   "cell_type": "code",
   "execution_count": 6,
   "metadata": {
    "collapsed": true
   },
   "outputs": [],
   "source": [
    "intializer_op = tf.global_variables_initializer()"
   ]
  },
  {
   "cell_type": "markdown",
   "metadata": {},
   "source": [
    "#### Execute Graph"
   ]
  },
  {
   "cell_type": "code",
   "execution_count": 7,
   "metadata": {},
   "outputs": [],
   "source": [
    "with tf.Session() as session:\n",
    "    session.run(intializer_op)\n",
    "    layer_output = session.run(a,feed_dict={x:np.random.random([1,n_input])})"
   ]
  },
  {
   "cell_type": "code",
   "execution_count": 8,
   "metadata": {},
   "outputs": [
    {
     "data": {
      "text/plain": [
       "array([[ 0.25613901,  0.0366674 ,  1.00562119,  0.94707406,  0.        ,\n",
       "         0.        ,  1.017061  ,  0.        ,  0.        ,  0.77220201,\n",
       "         0.        ,  0.        ,  0.        ,  0.65301412,  0.15939188,\n",
       "         1.20031667,  0.        ,  0.        ,  0.45784718,  0.80916113,\n",
       "         0.64113581,  1.13584661,  0.19926794,  0.41493744,  0.        ,\n",
       "         0.16846868,  0.        ,  0.        ,  0.        ,  0.92140198,\n",
       "         0.28198841,  0.        ,  0.        ,  0.        ,  0.        ,\n",
       "         0.26099205,  0.        ,  0.58684689,  0.        ,  0.        ,\n",
       "         0.28455165,  0.        ,  0.        ,  0.06574548,  0.        ,\n",
       "         0.        ,  0.        ,  0.        ,  0.        ,  0.0952256 ,\n",
       "         2.36267138,  0.53628159,  0.36279559,  0.        ,  0.        ,\n",
       "         0.49719992,  0.82509422,  0.        ,  0.        ,  0.05595439,\n",
       "         0.        ,  1.07398558,  0.46148908,  0.        ,  0.26796877,\n",
       "         0.90158606,  0.        ,  0.        ,  0.06911998,  0.        ,\n",
       "         0.        ,  1.63510787,  0.7875399 ,  0.        ,  0.        ,\n",
       "         0.        ,  0.85961223,  0.01560317,  0.        ,  0.        ,\n",
       "         0.        ,  0.86254305,  0.        ,  1.16606092,  0.        ,\n",
       "         0.        ,  0.        ,  0.37161574,  1.12640977,  1.06631649,\n",
       "         0.        ,  0.60951656,  0.        ,  1.39073658,  0.        ,\n",
       "         0.30030596,  0.64887959,  0.        ,  0.34269482,  1.11236811,\n",
       "         0.        ,  1.09248531,  0.47990987,  0.29820275,  0.        ,\n",
       "         0.31518576,  0.        ,  0.84261698,  0.        ,  0.73203534,\n",
       "         0.        ,  0.        ,  0.36137301,  0.        ,  0.28407124,\n",
       "         0.        ,  0.63964927,  0.        ,  0.76537949,  0.        ,\n",
       "         0.58360571,  0.25053251,  0.        ,  0.        ,  0.        ,\n",
       "         0.98350048,  0.        ,  0.        ]], dtype=float32)"
      ]
     },
     "execution_count": 8,
     "metadata": {},
     "output_type": "execute_result"
    }
   ],
   "source": [
    "layer_output"
   ]
  },
  {
   "cell_type": "code",
   "execution_count": 9,
   "metadata": {},
   "outputs": [
    {
     "data": {
      "image/png": "[encoded data removed]",
      "text/plain": [
       "<matplotlib.figure.Figure at 0x7fd1be54b240>"
      ]
     },
     "metadata": {},
     "output_type": "display_data"
    }
   ],
   "source": [
    "_ = plt.hist(np.transpose(layer_output))"
   ]
  },
  {
   "cell_type": "code",
   "execution_count": null,
   "metadata": {
    "collapsed": true
   },
   "outputs": [],
   "source": []
  }
 ],
 "metadata": {
  "kernelspec": {
   "display_name": "Python 3",
   "language": "python",
   "name": "python3"
  },
  "language_info": {
   "codemirror_mode": {
    "name": "ipython",
    "version": 3
   },
   "file_extension": ".py",
   "mimetype": "text/x-python",
   "name": "python",
   "nbconvert_exporter": "python",
   "pygments_lexer": "ipython3",
   "version": "3.6.2"
  }
 },
 "nbformat": 4,
 "nbformat_minor": 2
}
