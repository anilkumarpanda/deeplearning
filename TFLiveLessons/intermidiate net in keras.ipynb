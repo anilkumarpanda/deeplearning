{
 "cells": [
  {
   "cell_type": "markdown",
   "metadata": {},
   "source": [
    "# Intermidiate Net in Keras"
   ]
  },
  {
   "cell_type": "code",
   "execution_count": 1,
   "metadata": {
    "collapsed": true
   },
   "outputs": [],
   "source": [
    "#Building a intermidiate net to classify MNIST digits\n",
    "#### Set seed "
   ]
  },
  {
   "cell_type": "code",
   "execution_count": 2,
   "metadata": {
    "collapsed": true
   },
   "outputs": [],
   "source": [
    "import numpy as np\n",
    "np.random.seed(42)"
   ]
  },
  {
   "cell_type": "code",
   "execution_count": 3,
   "metadata": {},
   "outputs": [
    {
     "name": "stderr",
     "output_type": "stream",
     "text": [
      "Using TensorFlow backend.\n"
     ]
    }
   ],
   "source": [
    "import keras\n",
    "from keras.datasets import mnist\n",
    "from keras.models import Sequential\n",
    "from keras.layers import Dense\n",
    "from keras.optimizers import SGD"
   ]
  },
  {
   "cell_type": "code",
   "execution_count": 4,
   "metadata": {
    "collapsed": true
   },
   "outputs": [],
   "source": [
    "####Load data"
   ]
  },
  {
   "cell_type": "code",
   "execution_count": 5,
   "metadata": {},
   "outputs": [],
   "source": [
    "(X_train,y_train),(X_test,y_test)=mnist.load_data()"
   ]
  },
  {
   "cell_type": "code",
   "execution_count": 6,
   "metadata": {},
   "outputs": [
    {
     "data": {
      "text/plain": [
       "(60000, 28, 28)"
      ]
     },
     "execution_count": 6,
     "metadata": {},
     "output_type": "execute_result"
    }
   ],
   "source": [
    "X_train.shape"
   ]
  },
  {
   "cell_type": "code",
   "execution_count": 7,
   "metadata": {},
   "outputs": [
    {
     "data": {
      "text/plain": [
       "(10000, 28, 28)"
      ]
     },
     "execution_count": 7,
     "metadata": {},
     "output_type": "execute_result"
    }
   ],
   "source": [
    "X_test.shape"
   ]
  },
  {
   "cell_type": "code",
   "execution_count": 8,
   "metadata": {},
   "outputs": [
    {
     "data": {
      "text/plain": [
       "(10000,)"
      ]
     },
     "execution_count": 8,
     "metadata": {},
     "output_type": "execute_result"
    }
   ],
   "source": [
    "y_test.shape"
   ]
  },
  {
   "cell_type": "code",
   "execution_count": 9,
   "metadata": {
    "collapsed": true
   },
   "outputs": [],
   "source": [
    "##### Pre-process data"
   ]
  },
  {
   "cell_type": "code",
   "execution_count": 10,
   "metadata": {
    "collapsed": true
   },
   "outputs": [],
   "source": [
    "X_train = X_train.reshape(60000,784).astype('float32')\n",
    "X_test = X_test.reshape(10000,784).astype('float32')\n",
    "X_train /=255\n",
    "X_test /= 255"
   ]
  },
  {
   "cell_type": "code",
   "execution_count": 11,
   "metadata": {
    "collapsed": true
   },
   "outputs": [],
   "source": [
    "n_classes = 10\n",
    "y_train= keras.utils.to_categorical(y_train,n_classes)\n",
    "y_test = keras.utils.to_categorical(y_test,n_classes)"
   ]
  },
  {
   "cell_type": "code",
   "execution_count": 12,
   "metadata": {},
   "outputs": [
    {
     "data": {
      "text/plain": [
       "array([ 0.,  0.,  0.,  0.,  0.,  1.,  0.,  0.,  0.,  0.])"
      ]
     },
     "execution_count": 12,
     "metadata": {},
     "output_type": "execute_result"
    }
   ],
   "source": [
    "y_train[0]"
   ]
  },
  {
   "cell_type": "markdown",
   "metadata": {},
   "source": [
    "#### Build a new neural network"
   ]
  },
  {
   "cell_type": "code",
   "execution_count": 13,
   "metadata": {
    "collapsed": true
   },
   "outputs": [],
   "source": [
    "model = Sequential()\n",
    "model.add(Dense((64),activation='relu',input_shape=(784,)))\n",
    "model.add(Dense((64),activation='tanh'))\n",
    "model.add(Dense((32),activation='relu'))\n",
    "model.add(Dense((10),activation='softmax'))"
   ]
  },
  {
   "cell_type": "code",
   "execution_count": 14,
   "metadata": {},
   "outputs": [
    {
     "name": "stdout",
     "output_type": "stream",
     "text": [
      "_________________________________________________________________\n",
      "Layer (type)                 Output Shape              Param #   \n",
      "=================================================================\n",
      "dense_1 (Dense)              (None, 64)                50240     \n",
      "_________________________________________________________________\n",
      "dense_2 (Dense)              (None, 64)                4160      \n",
      "_________________________________________________________________\n",
      "dense_3 (Dense)              (None, 32)                2080      \n",
      "_________________________________________________________________\n",
      "dense_4 (Dense)              (None, 10)                330       \n",
      "=================================================================\n",
      "Total params: 56,810\n",
      "Trainable params: 56,810\n",
      "Non-trainable params: 0\n",
      "_________________________________________________________________\n"
     ]
    }
   ],
   "source": [
    "model.summary()"
   ]
  },
  {
   "cell_type": "markdown",
   "metadata": {},
   "source": [
    "#### Configure Model"
   ]
  },
  {
   "cell_type": "code",
   "execution_count": 15,
   "metadata": {},
   "outputs": [],
   "source": [
    "model.compile(loss='categorical_crossentropy',optimizer=SGD(lr=0.1),metrics=['accuracy'])"
   ]
  },
  {
   "cell_type": "markdown",
   "metadata": {},
   "source": [
    "#### Train !!"
   ]
  },
  {
   "cell_type": "code",
   "execution_count": 16,
   "metadata": {
    "scrolled": false
   },
   "outputs": [
    {
     "name": "stdout",
     "output_type": "stream",
     "text": [
      "Train on 60000 samples, validate on 10000 samples\n",
      "Epoch 1/20\n",
      "60000/60000 [==============================] - 1s - loss: 0.4617 - acc: 0.8669 - val_loss: 0.2318 - val_acc: 0.9285\n",
      "Epoch 2/20\n",
      "60000/60000 [==============================] - 1s - loss: 0.1921 - acc: 0.9427 - val_loss: 0.1618 - val_acc: 0.9525\n",
      "Epoch 3/20\n",
      "60000/60000 [==============================] - 1s - loss: 0.1442 - acc: 0.9575 - val_loss: 0.1330 - val_acc: 0.9587\n",
      "Epoch 4/20\n",
      "60000/60000 [==============================] - 1s - loss: 0.1169 - acc: 0.9648 - val_loss: 0.1253 - val_acc: 0.9607\n",
      "Epoch 5/20\n",
      "60000/60000 [==============================] - 1s - loss: 0.0977 - acc: 0.9706 - val_loss: 0.1239 - val_acc: 0.9633\n",
      "Epoch 6/20\n",
      "60000/60000 [==============================] - 1s - loss: 0.0854 - acc: 0.9742 - val_loss: 0.1191 - val_acc: 0.9629\n",
      "Epoch 7/20\n",
      "60000/60000 [==============================] - 1s - loss: 0.0758 - acc: 0.9769 - val_loss: 0.1017 - val_acc: 0.9685\n",
      "Epoch 8/20\n",
      "60000/60000 [==============================] - 1s - loss: 0.0661 - acc: 0.9805 - val_loss: 0.0989 - val_acc: 0.9703\n",
      "Epoch 9/20\n",
      "60000/60000 [==============================] - 1s - loss: 0.0599 - acc: 0.9819 - val_loss: 0.0879 - val_acc: 0.9733\n",
      "Epoch 10/20\n",
      "60000/60000 [==============================] - 1s - loss: 0.0535 - acc: 0.9841 - val_loss: 0.0894 - val_acc: 0.9730\n",
      "Epoch 11/20\n",
      "60000/60000 [==============================] - 1s - loss: 0.0484 - acc: 0.9855 - val_loss: 0.0934 - val_acc: 0.9727\n",
      "Epoch 12/20\n",
      "60000/60000 [==============================] - 1s - loss: 0.0443 - acc: 0.9866 - val_loss: 0.0937 - val_acc: 0.9707\n",
      "Epoch 13/20\n",
      "60000/60000 [==============================] - 1s - loss: 0.0395 - acc: 0.9880 - val_loss: 0.1003 - val_acc: 0.9701\n",
      "Epoch 14/20\n",
      "60000/60000 [==============================] - 1s - loss: 0.0371 - acc: 0.9887 - val_loss: 0.1015 - val_acc: 0.9694\n",
      "Epoch 15/20\n",
      "60000/60000 [==============================] - 1s - loss: 0.0328 - acc: 0.9905 - val_loss: 0.0897 - val_acc: 0.9744\n",
      "Epoch 16/20\n",
      "60000/60000 [==============================] - 1s - loss: 0.0299 - acc: 0.9911 - val_loss: 0.0886 - val_acc: 0.9747\n",
      "Epoch 17/20\n",
      "60000/60000 [==============================] - 1s - loss: 0.0273 - acc: 0.9923 - val_loss: 0.0885 - val_acc: 0.9763\n",
      "Epoch 18/20\n",
      "60000/60000 [==============================] - 1s - loss: 0.0249 - acc: 0.9927 - val_loss: 0.0867 - val_acc: 0.9751\n",
      "Epoch 19/20\n",
      "60000/60000 [==============================] - 1s - loss: 0.0219 - acc: 0.9938 - val_loss: 0.0886 - val_acc: 0.9753\n",
      "Epoch 20/20\n",
      "60000/60000 [==============================] - 1s - loss: 0.0195 - acc: 0.9946 - val_loss: 0.1032 - val_acc: 0.9712\n"
     ]
    },
    {
     "data": {
      "text/plain": [
       "<keras.callbacks.History at 0x7f109d7e9ef0>"
      ]
     },
     "execution_count": 16,
     "metadata": {},
     "output_type": "execute_result"
    }
   ],
   "source": [
    "model.fit(X_train,y_train,batch_size=128,epochs=20,verbose=1,validation_data=(X_test,y_test))"
   ]
  },
  {
   "cell_type": "code",
   "execution_count": null,
   "metadata": {
    "collapsed": true
   },
   "outputs": [],
   "source": []
  }
 ],
 "metadata": {
  "kernelspec": {
   "display_name": "Python 3",
   "language": "python",
   "name": "python3"
  },
  "language_info": {
   "codemirror_mode": {
    "name": "ipython",
    "version": 3
   },
   "file_extension": ".py",
   "mimetype": "text/x-python",
   "name": "python",
   "nbconvert_exporter": "python",
   "pygments_lexer": "ipython3",
   "version": "3.6.2"
  }
 },
 "nbformat": 4,
 "nbformat_minor": 2
}
