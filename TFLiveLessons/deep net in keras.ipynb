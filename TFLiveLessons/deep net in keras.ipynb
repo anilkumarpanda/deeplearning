{
 "cells": [
  {
   "cell_type": "markdown",
   "metadata": {},
   "source": [
    "# Deep Net in Keras"
   ]
  },
  {
   "cell_type": "code",
   "execution_count": 1,
   "metadata": {
    "collapsed": true
   },
   "outputs": [],
   "source": [
    "#Building a deep net to classify MNIST digits\n",
    "#### Set seed "
   ]
  },
  {
   "cell_type": "code",
   "execution_count": 2,
   "metadata": {
    "collapsed": true
   },
   "outputs": [],
   "source": [
    "import numpy as np\n",
    "np.random.seed(42)"
   ]
  },
  {
   "cell_type": "code",
   "execution_count": 3,
   "metadata": {},
   "outputs": [
    {
     "name": "stderr",
     "output_type": "stream",
     "text": [
      "Using TensorFlow backend.\n"
     ]
    }
   ],
   "source": [
    "import keras\n",
    "from keras.datasets import mnist\n",
    "from keras.models import Sequential\n",
    "from keras.layers import Dense\n",
    "from keras.optimizers import SGD\n",
    "from keras.layers import Dropout\n",
    "from keras.layers.normalization import BatchNormalization\n",
    "from keras import regularizers"
   ]
  },
  {
   "cell_type": "code",
   "execution_count": 4,
   "metadata": {
    "collapsed": true
   },
   "outputs": [],
   "source": [
    "####Load data"
   ]
  },
  {
   "cell_type": "code",
   "execution_count": 5,
   "metadata": {
    "collapsed": true
   },
   "outputs": [],
   "source": [
    "(X_train,y_train),(X_test,y_test)=mnist.load_data()"
   ]
  },
  {
   "cell_type": "code",
   "execution_count": 6,
   "metadata": {},
   "outputs": [
    {
     "data": {
      "text/plain": [
       "(60000, 28, 28)"
      ]
     },
     "execution_count": 6,
     "metadata": {},
     "output_type": "execute_result"
    }
   ],
   "source": [
    "X_train.shape"
   ]
  },
  {
   "cell_type": "code",
   "execution_count": 7,
   "metadata": {},
   "outputs": [
    {
     "data": {
      "text/plain": [
       "(10000, 28, 28)"
      ]
     },
     "execution_count": 7,
     "metadata": {},
     "output_type": "execute_result"
    }
   ],
   "source": [
    "X_test.shape"
   ]
  },
  {
   "cell_type": "code",
   "execution_count": 8,
   "metadata": {},
   "outputs": [
    {
     "data": {
      "text/plain": [
       "(10000,)"
      ]
     },
     "execution_count": 8,
     "metadata": {},
     "output_type": "execute_result"
    }
   ],
   "source": [
    "y_test.shape"
   ]
  },
  {
   "cell_type": "code",
   "execution_count": 9,
   "metadata": {
    "collapsed": true
   },
   "outputs": [],
   "source": [
    "##### Pre-process data"
   ]
  },
  {
   "cell_type": "code",
   "execution_count": 10,
   "metadata": {
    "collapsed": true
   },
   "outputs": [],
   "source": [
    "X_train = X_train.reshape(60000,784).astype('float32')\n",
    "X_test = X_test.reshape(10000,784).astype('float32')\n",
    "X_train /=255\n",
    "X_test /= 255"
   ]
  },
  {
   "cell_type": "code",
   "execution_count": 11,
   "metadata": {
    "collapsed": true
   },
   "outputs": [],
   "source": [
    "n_classes = 10\n",
    "y_train= keras.utils.to_categorical(y_train,n_classes)\n",
    "y_test = keras.utils.to_categorical(y_test,n_classes)"
   ]
  },
  {
   "cell_type": "code",
   "execution_count": 12,
   "metadata": {},
   "outputs": [
    {
     "data": {
      "text/plain": [
       "array([ 0.,  0.,  0.,  0.,  0.,  1.,  0.,  0.,  0.,  0.])"
      ]
     },
     "execution_count": 12,
     "metadata": {},
     "output_type": "execute_result"
    }
   ],
   "source": [
    "y_train[0]"
   ]
  },
  {
   "cell_type": "markdown",
   "metadata": {},
   "source": [
    "#### Build a deep neural network"
   ]
  },
  {
   "cell_type": "code",
   "execution_count": 13,
   "metadata": {
    "collapsed": true
   },
   "outputs": [],
   "source": [
    "model = Sequential()\n",
    "#model.add(Dense((64),activation='relu',input_shape=(784,),kernel_regularizer=regularizers.l2(0.01)))\n",
    "model.add(Dense((64),activation='relu',input_shape=(784,)))\n",
    "model.add(BatchNormalization())\n",
    "model.add(Dropout(0.5))\n",
    "\n",
    "model.add(Dense((64),activation='relu'))\n",
    "model.add(BatchNormalization())\n",
    "model.add(Dropout(0.5))\n",
    "\n",
    "model.add(Dense((32),activation='relu'))\n",
    "model.add(BatchNormalization())\n",
    "model.add(Dropout(0.5))\n",
    "\n",
    "model.add(Dense((10),activation='softmax'))"
   ]
  },
  {
   "cell_type": "code",
   "execution_count": 14,
   "metadata": {},
   "outputs": [
    {
     "name": "stdout",
     "output_type": "stream",
     "text": [
      "_________________________________________________________________\n",
      "Layer (type)                 Output Shape              Param #   \n",
      "=================================================================\n",
      "dense_1 (Dense)              (None, 64)                50240     \n",
      "_________________________________________________________________\n",
      "batch_normalization_1 (Batch (None, 64)                256       \n",
      "_________________________________________________________________\n",
      "dropout_1 (Dropout)          (None, 64)                0         \n",
      "_________________________________________________________________\n",
      "dense_2 (Dense)              (None, 64)                4160      \n",
      "_________________________________________________________________\n",
      "batch_normalization_2 (Batch (None, 64)                256       \n",
      "_________________________________________________________________\n",
      "dropout_2 (Dropout)          (None, 64)                0         \n",
      "_________________________________________________________________\n",
      "dense_3 (Dense)              (None, 32)                2080      \n",
      "_________________________________________________________________\n",
      "batch_normalization_3 (Batch (None, 32)                128       \n",
      "_________________________________________________________________\n",
      "dropout_3 (Dropout)          (None, 32)                0         \n",
      "_________________________________________________________________\n",
      "dense_4 (Dense)              (None, 10)                330       \n",
      "=================================================================\n",
      "Total params: 57,450\n",
      "Trainable params: 57,130\n",
      "Non-trainable params: 320\n",
      "_________________________________________________________________\n"
     ]
    }
   ],
   "source": [
    "model.summary()"
   ]
  },
  {
   "cell_type": "markdown",
   "metadata": {},
   "source": [
    "#### Configure Model"
   ]
  },
  {
   "cell_type": "code",
   "execution_count": 15,
   "metadata": {
    "collapsed": true
   },
   "outputs": [],
   "source": [
    "model.compile(loss='categorical_crossentropy',optimizer='adam',metrics=['accuracy'])"
   ]
  },
  {
   "cell_type": "markdown",
   "metadata": {},
   "source": [
    "#### Train !!"
   ]
  },
  {
   "cell_type": "code",
   "execution_count": 16,
   "metadata": {
    "scrolled": false
   },
   "outputs": [
    {
     "name": "stdout",
     "output_type": "stream",
     "text": [
      "Train on 60000 samples, validate on 10000 samples\n",
      "Epoch 1/20\n",
      "60000/60000 [==============================] - 3s - loss: 1.3157 - acc: 0.5710 - val_loss: 0.3512 - val_acc: 0.9054\n",
      "Epoch 2/20\n",
      "60000/60000 [==============================] - 2s - loss: 0.6466 - acc: 0.8109 - val_loss: 0.2784 - val_acc: 0.9166\n",
      "Epoch 3/20\n",
      "60000/60000 [==============================] - 3s - loss: 0.5165 - acc: 0.8544 - val_loss: 0.2309 - val_acc: 0.9326\n",
      "Epoch 4/20\n",
      "60000/60000 [==============================] - 3s - loss: 0.4573 - acc: 0.8764 - val_loss: 0.2137 - val_acc: 0.9393\n",
      "Epoch 5/20\n",
      "60000/60000 [==============================] - 3s - loss: 0.4187 - acc: 0.8877 - val_loss: 0.1873 - val_acc: 0.9458\n",
      "Epoch 6/20\n",
      "60000/60000 [==============================] - 2s - loss: 0.3911 - acc: 0.8947 - val_loss: 0.1746 - val_acc: 0.9488\n",
      "Epoch 7/20\n",
      "60000/60000 [==============================] - 2s - loss: 0.3720 - acc: 0.9014 - val_loss: 0.1736 - val_acc: 0.9497\n",
      "Epoch 8/20\n",
      "60000/60000 [==============================] - 2s - loss: 0.3550 - acc: 0.9071 - val_loss: 0.1687 - val_acc: 0.9539\n",
      "Epoch 9/20\n",
      "60000/60000 [==============================] - 2s - loss: 0.3431 - acc: 0.9110 - val_loss: 0.1610 - val_acc: 0.9533\n",
      "Epoch 10/20\n",
      "60000/60000 [==============================] - 2s - loss: 0.3360 - acc: 0.9116 - val_loss: 0.1650 - val_acc: 0.9539\n",
      "Epoch 11/20\n",
      "60000/60000 [==============================] - 2s - loss: 0.3219 - acc: 0.9143 - val_loss: 0.1523 - val_acc: 0.9577\n",
      "Epoch 12/20\n",
      "60000/60000 [==============================] - 3s - loss: 0.3163 - acc: 0.9171 - val_loss: 0.1557 - val_acc: 0.9560\n",
      "Epoch 13/20\n",
      "60000/60000 [==============================] - 3s - loss: 0.3104 - acc: 0.9182 - val_loss: 0.1529 - val_acc: 0.9568\n",
      "Epoch 14/20\n",
      "60000/60000 [==============================] - 3s - loss: 0.3028 - acc: 0.9205 - val_loss: 0.1438 - val_acc: 0.9610\n",
      "Epoch 15/20\n",
      "60000/60000 [==============================] - 3s - loss: 0.2973 - acc: 0.9207 - val_loss: 0.1409 - val_acc: 0.9605\n",
      "Epoch 16/20\n",
      "60000/60000 [==============================] - 3s - loss: 0.2929 - acc: 0.9226 - val_loss: 0.1497 - val_acc: 0.9588\n",
      "Epoch 17/20\n",
      "60000/60000 [==============================] - 3s - loss: 0.2895 - acc: 0.9244 - val_loss: 0.1395 - val_acc: 0.9606\n",
      "Epoch 18/20\n",
      "60000/60000 [==============================] - 4s - loss: 0.2870 - acc: 0.9230 - val_loss: 0.1380 - val_acc: 0.9616\n",
      "Epoch 19/20\n",
      "60000/60000 [==============================] - 3s - loss: 0.2846 - acc: 0.9242 - val_loss: 0.1426 - val_acc: 0.9618\n",
      "Epoch 20/20\n",
      "60000/60000 [==============================] - 3s - loss: 0.2788 - acc: 0.9267 - val_loss: 0.1363 - val_acc: 0.9618\n"
     ]
    },
    {
     "data": {
      "text/plain": [
       "<keras.callbacks.History at 0x7f1aaea03550>"
      ]
     },
     "execution_count": 16,
     "metadata": {},
     "output_type": "execute_result"
    }
   ],
   "source": [
    "model.fit(X_train,y_train,batch_size=128,epochs=20,verbose=1,validation_data=(X_test,y_test))"
   ]
  },
  {
   "cell_type": "code",
   "execution_count": null,
   "metadata": {
    "collapsed": true
   },
   "outputs": [],
   "source": []
  }
 ],
 "metadata": {
  "kernelspec": {
   "display_name": "Python 3",
   "language": "python",
   "name": "python3"
  },
  "language_info": {
   "codemirror_mode": {
    "name": "ipython",
    "version": 3
   },
   "file_extension": ".py",
   "mimetype": "text/x-python",
   "name": "python",
   "nbconvert_exporter": "python",
   "pygments_lexer": "ipython3",
   "version": "3.6.2"
  }
 },
 "nbformat": 4,
 "nbformat_minor": 2
}
